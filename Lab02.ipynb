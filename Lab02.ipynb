{
 "cells": [
  {
   "cell_type": "code",
   "execution_count": 22,
   "metadata": {
    "collapsed": true
   },
   "outputs": [],
   "source": [
    "import tensorflow as tf"
   ]
  },
  {
   "cell_type": "code",
   "execution_count": 23,
   "metadata": {
    "collapsed": true
   },
   "outputs": [],
   "source": [
    "# Build graph using TF operations\n",
    "x_train = [1,2,3]\n",
    "y_train = [4,5,6]"
   ]
  },
  {
   "cell_type": "code",
   "execution_count": 24,
   "metadata": {
    "collapsed": true
   },
   "outputs": [],
   "source": [
    "W = tf.Variable(tf.random_normal([1]),name='weight')\n",
    "b = tf.Variable(tf.random_normal([1]),name='bias')"
   ]
  },
  {
   "cell_type": "code",
   "execution_count": 25,
   "metadata": {
    "collapsed": true
   },
   "outputs": [],
   "source": [
    "hypothesis = x_train*W +b"
   ]
  },
  {
   "cell_type": "code",
   "execution_count": 26,
   "metadata": {
    "collapsed": true
   },
   "outputs": [],
   "source": [
    "cost = tf.reduce_mean(tf.square(hypothesis-y_train))"
   ]
  },
  {
   "cell_type": "code",
   "execution_count": 27,
   "metadata": {},
   "outputs": [],
   "source": [
    "optimizer = tf.train.GradientDescentOptimizer(learning_rate=0.1)"
   ]
  },
  {
   "cell_type": "code",
   "execution_count": 28,
   "metadata": {
    "collapsed": true
   },
   "outputs": [],
   "source": [
    "train = optimizer.minimize(cost)"
   ]
  },
  {
   "cell_type": "code",
   "execution_count": 29,
   "metadata": {},
   "outputs": [
    {
     "name": "stdout",
     "output_type": "stream",
     "text": [
      "(0, 1.9337515, array([ 2.69496083], dtype=float32), array([-0.25394535], dtype=float32))\n",
      "(200, 9.5499752e-05, array([ 1.01135004], dtype=float32), array([ 2.97419834], dtype=float32))\n",
      "(400, 5.6650156e-09, array([ 1.00008738], dtype=float32), array([ 2.99980164], dtype=float32))\n",
      "(600, 1.9137283e-12, array([ 1.00000167], dtype=float32), array([ 2.99999619], dtype=float32))\n",
      "(800, 1.9137283e-12, array([ 1.00000167], dtype=float32), array([ 2.99999619], dtype=float32))\n",
      "(1000, 1.9137283e-12, array([ 1.00000167], dtype=float32), array([ 2.99999619], dtype=float32))\n",
      "(1200, 1.9137283e-12, array([ 1.00000167], dtype=float32), array([ 2.99999619], dtype=float32))\n",
      "(1400, 1.9137283e-12, array([ 1.00000167], dtype=float32), array([ 2.99999619], dtype=float32))\n",
      "(1600, 1.9137283e-12, array([ 1.00000167], dtype=float32), array([ 2.99999619], dtype=float32))\n",
      "(1800, 1.9137283e-12, array([ 1.00000167], dtype=float32), array([ 2.99999619], dtype=float32))\n",
      "(2000, 1.9137283e-12, array([ 1.00000167], dtype=float32), array([ 2.99999619], dtype=float32))\n"
     ]
    }
   ],
   "source": [
    "# Run/ update graph and get results\n",
    "sess = tf.Session()\n",
    "sess.run(tf.global_variables_initializer())\n",
    "\n",
    "for step in range(2001):\n",
    "    sess.run(train)\n",
    "    if step%200 ==0:\n",
    "        print(step,sess.run(cost),sess.run(W),sess.run(b))"
   ]
  },
  {
   "cell_type": "code",
   "execution_count": 30,
   "metadata": {
    "collapsed": true
   },
   "outputs": [],
   "source": [
    "X = tf.placeholder(tf.float32)\n",
    "Y = tf.placeholder(tf.float32)"
   ]
  },
  {
   "cell_type": "code",
   "execution_count": 31,
   "metadata": {
    "collapsed": true
   },
   "outputs": [],
   "source": [
    "W = tf.Variable(tf.random_normal([1]),name='weight')\n",
    "b = tf.Variable(tf.random_normal([1]),name='bias')"
   ]
  },
  {
   "cell_type": "code",
   "execution_count": 32,
   "metadata": {
    "collapsed": true
   },
   "outputs": [],
   "source": [
    "hypothesis = X*W +b"
   ]
  },
  {
   "cell_type": "code",
   "execution_count": 33,
   "metadata": {
    "collapsed": true
   },
   "outputs": [],
   "source": [
    "cost = tf.reduce_mean(tf.square(hypothesis-Y))"
   ]
  },
  {
   "cell_type": "code",
   "execution_count": 34,
   "metadata": {
    "collapsed": true
   },
   "outputs": [],
   "source": [
    "optimizer = tf.train.GradientDescentOptimizer(learning_rate=0.1)"
   ]
  },
  {
   "cell_type": "code",
   "execution_count": 35,
   "metadata": {
    "collapsed": true
   },
   "outputs": [],
   "source": [
    "train = optimizer.minimize(cost)"
   ]
  },
  {
   "cell_type": "code",
   "execution_count": 36,
   "metadata": {},
   "outputs": [
    {
     "name": "stdout",
     "output_type": "stream",
     "text": [
      "(0, 7.5810699, array([-0.28681031], dtype=float32), array([ 0.02859619], dtype=float32))\n",
      "(200, 2.111283e-06, array([ 0.99831241], dtype=float32), array([ 0.00383628], dtype=float32))\n",
      "(400, 1.2424077e-10, array([ 0.99998695], dtype=float32), array([  2.95314985e-05], dtype=float32))\n",
      "(600, 2.3684759e-14, array([ 0.99999982], dtype=float32), array([  3.33169453e-07], dtype=float32))\n",
      "(800, 0.0, array([ 1.], dtype=float32), array([  5.50143469e-08], dtype=float32))\n",
      "(1000, 0.0, array([ 1.], dtype=float32), array([  5.50143469e-08], dtype=float32))\n",
      "(1200, 0.0, array([ 1.], dtype=float32), array([  5.50143469e-08], dtype=float32))\n",
      "(1400, 0.0, array([ 1.], dtype=float32), array([  5.50143469e-08], dtype=float32))\n",
      "(1600, 0.0, array([ 1.], dtype=float32), array([  5.50143469e-08], dtype=float32))\n",
      "(1800, 0.0, array([ 1.], dtype=float32), array([  5.50143469e-08], dtype=float32))\n",
      "(2000, 0.0, array([ 1.], dtype=float32), array([  5.50143469e-08], dtype=float32))\n"
     ]
    }
   ],
   "source": [
    "sess = tf.Session()\n",
    "sess.run(tf.global_variables_initializer())\n",
    "\n",
    "for step in range(2001):\n",
    "    cost_val, W_val, b_val, _ = \\\n",
    "    sess.run([cost, W, b, train],feed_dict={X: [1, 2, 3], Y: [1, 2, 3]})\n",
    "    if step % 200 == 0:\n",
    "        print(step, cost_val, W_val, b_val)"
   ]
  },
  {
   "cell_type": "code",
   "execution_count": null,
   "metadata": {
    "collapsed": true
   },
   "outputs": [],
   "source": []
  }
 ],
 "metadata": {
  "kernelspec": {
   "display_name": "tensorflow kernel",
   "language": "python",
   "name": "tfkernel"
  },
  "language_info": {
   "codemirror_mode": {
    "name": "ipython",
    "version": 2
   },
   "file_extension": ".py",
   "mimetype": "text/x-python",
   "name": "python",
   "nbconvert_exporter": "python",
   "pygments_lexer": "ipython2",
   "version": "2.7.12"
  }
 },
 "nbformat": 4,
 "nbformat_minor": 2
}
