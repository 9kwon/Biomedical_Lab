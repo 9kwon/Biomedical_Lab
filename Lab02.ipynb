{
 "cells": [
  {
   "cell_type": "code",
   "execution_count": 1,
   "metadata": {
    "collapsed": true
   },
   "outputs": [],
   "source": [
    "import tensorflow as tf"
   ]
  },
  {
   "cell_type": "code",
   "execution_count": 2,
   "metadata": {
    "collapsed": true
   },
   "outputs": [],
   "source": [
    "# Build graph using TF operations\n",
    "x_train = [1,2,3]\n",
    "y_train = [4,5,6]"
   ]
  },
  {
   "cell_type": "code",
   "execution_count": 3,
   "metadata": {
    "collapsed": true
   },
   "outputs": [],
   "source": [
    "W = tf.Variable(tf.random_normal([1]),name='weight')\n",
    "b = tf.Variable(tf.random_normal([1]),name='bias')"
   ]
  },
  {
   "cell_type": "code",
   "execution_count": 4,
   "metadata": {
    "collapsed": true
   },
   "outputs": [],
   "source": [
    "hypothesis = x_train*W +b"
   ]
  },
  {
   "cell_type": "code",
   "execution_count": 5,
   "metadata": {
    "collapsed": true
   },
   "outputs": [],
   "source": [
    "cost = tf.reduce_mean(tf.square(hypothesis-y_train))"
   ]
  },
  {
   "cell_type": "code",
   "execution_count": 6,
   "metadata": {
    "collapsed": true
   },
   "outputs": [],
   "source": [
    "optimizer = tf.train.GradientDescentOptimizer(learning_rate=0.1)"
   ]
  },
  {
   "cell_type": "code",
   "execution_count": 7,
   "metadata": {
    "collapsed": true
   },
   "outputs": [],
   "source": [
    "train = optimizer.minimize(cost)"
   ]
  },
  {
   "cell_type": "code",
   "execution_count": 8,
   "metadata": {},
   "outputs": [
    {
     "name": "stdout",
     "output_type": "stream",
     "text": [
      "(0, 1.5114753, array([ 2.4662571], dtype=float32), array([ 0.34713158], dtype=float32))\n",
      "(200, 6.493213e-05, array([ 1.00935888], dtype=float32), array([ 2.97872496], dtype=float32))\n",
      "(400, 3.8281391e-09, array([ 1.00007176], dtype=float32), array([ 2.99983668], dtype=float32))\n",
      "(600, 1.9137283e-12, array([ 1.00000167], dtype=float32), array([ 2.99999619], dtype=float32))\n",
      "(800, 1.9137283e-12, array([ 1.00000167], dtype=float32), array([ 2.99999619], dtype=float32))\n",
      "(1000, 1.9137283e-12, array([ 1.00000167], dtype=float32), array([ 2.99999619], dtype=float32))\n",
      "(1200, 1.9137283e-12, array([ 1.00000167], dtype=float32), array([ 2.99999619], dtype=float32))\n",
      "(1400, 1.9137283e-12, array([ 1.00000167], dtype=float32), array([ 2.99999619], dtype=float32))\n",
      "(1600, 1.9137283e-12, array([ 1.00000167], dtype=float32), array([ 2.99999619], dtype=float32))\n",
      "(1800, 1.9137283e-12, array([ 1.00000167], dtype=float32), array([ 2.99999619], dtype=float32))\n",
      "(2000, 1.9137283e-12, array([ 1.00000167], dtype=float32), array([ 2.99999619], dtype=float32))\n"
     ]
    }
   ],
   "source": [
    "# Run/ update graph and get results\n",
    "sess = tf.Session()\n",
    "sess.run(tf.global_variables_initializer())\n",
    "\n",
    "for step in range(2001):\n",
    "    sess.run(train)\n",
    "    if step%200 ==0:\n",
    "        print(step,sess.run(cost),sess.run(W),sess.run(b))"
   ]
  },
  {
   "cell_type": "code",
   "execution_count": 9,
   "metadata": {
    "collapsed": true
   },
   "outputs": [],
   "source": [
    "X = tf.placeholder(tf.float32)\n",
    "Y = tf.placeholder(tf.float32)"
   ]
  },
  {
   "cell_type": "code",
   "execution_count": 10,
   "metadata": {
    "collapsed": true
   },
   "outputs": [],
   "source": [
    "W = tf.Variable(tf.random_normal([1]),name='weight')\n",
    "b = tf.Variable(tf.random_normal([1]),name='bias')"
   ]
  },
  {
   "cell_type": "code",
   "execution_count": 11,
   "metadata": {
    "collapsed": true
   },
   "outputs": [],
   "source": [
    "hypothesis = X*W +b"
   ]
  },
  {
   "cell_type": "code",
   "execution_count": 12,
   "metadata": {
    "collapsed": true
   },
   "outputs": [],
   "source": [
    "cost = tf.reduce_mean(tf.square(hypothesis-Y))"
   ]
  },
  {
   "cell_type": "code",
   "execution_count": 13,
   "metadata": {
    "collapsed": true
   },
   "outputs": [],
   "source": [
    "optimizer = tf.train.GradientDescentOptimizer(learning_rate=0.1)"
   ]
  },
  {
   "cell_type": "code",
   "execution_count": 14,
   "metadata": {
    "collapsed": true
   },
   "outputs": [],
   "source": [
    "train = optimizer.minimize(cost)"
   ]
  },
  {
   "cell_type": "code",
   "execution_count": 15,
   "metadata": {},
   "outputs": [
    {
     "name": "stdout",
     "output_type": "stream",
     "text": [
      "(0, 2.0285282, array([ 0.35210177], dtype=float32), array([-0.02658022], dtype=float32))\n",
      "(200, 3.9868988e-07, array([ 0.99926662], dtype=float32), array([ 0.00166715], dtype=float32))\n",
      "(400, 2.3405279e-11, array([ 0.9999944], dtype=float32), array([  1.28795537e-05], dtype=float32))\n",
      "(600, 0.0, array([ 1.], dtype=float32), array([  5.26352224e-08], dtype=float32))\n",
      "(800, 0.0, array([ 1.], dtype=float32), array([  5.26352224e-08], dtype=float32))\n",
      "(1000, 0.0, array([ 1.], dtype=float32), array([  5.26352224e-08], dtype=float32))\n",
      "(1200, 0.0, array([ 1.], dtype=float32), array([  5.26352224e-08], dtype=float32))\n",
      "(1400, 0.0, array([ 1.], dtype=float32), array([  5.26352224e-08], dtype=float32))\n",
      "(1600, 0.0, array([ 1.], dtype=float32), array([  5.26352224e-08], dtype=float32))\n",
      "(1800, 0.0, array([ 1.], dtype=float32), array([  5.26352224e-08], dtype=float32))\n",
      "(2000, 0.0, array([ 1.], dtype=float32), array([  5.26352224e-08], dtype=float32))\n"
     ]
    }
   ],
   "source": [
    "sess = tf.Session()\n",
    "sess.run(tf.global_variables_initializer())\n",
    "\n",
    "for step in range(2001):\n",
    "    cost_val, W_val, b_val, _ = \\\n",
    "    sess.run([cost, W, b, train],feed_dict={X: [1, 2, 3], Y: [1, 2, 3]})\n",
    "    if step % 200 == 0:\n",
    "        print(step, cost_val, W_val, b_val)"
   ]
  },
  {
   "cell_type": "code",
   "execution_count": null,
   "metadata": {
    "collapsed": true
   },
   "outputs": [],
   "source": []
  }
 ],
 "metadata": {
  "kernelspec": {
   "display_name": "tensorflow kernel",
   "language": "python",
   "name": "tfkernel"
  },
  "language_info": {
   "codemirror_mode": {
    "name": "ipython",
    "version": 2
   },
   "file_extension": ".py",
   "mimetype": "text/x-python",
   "name": "python",
   "nbconvert_exporter": "python",
   "pygments_lexer": "ipython2",
   "version": "2.7.12"
  }
 },
 "nbformat": 4,
 "nbformat_minor": 2
}
